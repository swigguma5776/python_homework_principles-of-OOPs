{
 "cells": [
  {
   "cell_type": "markdown",
   "metadata": {},
   "source": [
    " <h1 align = center> Principles of Object Oriented Programming </h1>"
   ]
  },
  {
   "cell_type": "markdown",
   "metadata": {},
   "source": [
    "#### 4 principles\n",
    "- Encapsulation\n",
    "- Abstraction\n",
    "- Inheritance\n",
    "- Polymorphism\n"
   ]
  },
  {
   "cell_type": "code",
   "execution_count": null,
   "metadata": {},
   "outputs": [],
   "source": [
    "# Least Larger\n",
    "# Given an array of numbers and an index, return the index of the least number\n",
    "# larger than the element at the given index, or -1 if there is no such index.\n",
    "# Example:\n",
    "# Input: ([4, 1, 3, 5, 6], 0 ) \n",
    "# Output: 3\n",
    "\n",
    "def num(arr,n): \n",
    "    large_num = []\n",
    "    for i in arr: # looping thru values in list\n",
    "        if i > arr[n]: # if values is greater then n[0] which is 4\n",
    "            large_num.append(i) # appends to list values 6 & 5\n",
    "    if large_num == []:\n",
    "        return -1\n",
    "    else:\n",
    "        return arr.index(min(large_num)) # returning our original array and comparing it to the smallest number of large_num list\n",
    "                                        #  and returning the index of that item(in original list)\n",
    "\n",
    "print(num([4, 1, 3, 6, 5], 0))  "
   ]
  },
  {
   "cell_type": "markdown",
   "metadata": {},
   "source": [
    "## 1 ENCAPSULATION"
   ]
  },
  {
   "cell_type": "markdown",
   "metadata": {},
   "source": [
    "In encapsulation, the variables of a class can be made hidden from other classes, and can be accessed only through the methods of their current class. Therefore, it is also known as data hiding.\n",
    "<br><br>\n",
    "Encapsulation can be described as a protective barrier that prevents the code and data being randomly accessed by other code defined outside the class. Access to the data and code is tightly controlled by a class."
   ]
  },
  {
   "cell_type": "code",
   "execution_count": 5,
   "metadata": {},
   "outputs": [],
   "source": [
    "from datetime import timedelta, date\n",
    "from IPython.display import Image\n",
    "import requests\n",
    "from time import sleep\n",
    "\n",
    "generic_image = 'codeflix.png'"
   ]
  },
  {
   "cell_type": "code",
   "execution_count": 6,
   "metadata": {},
   "outputs": [],
   "source": [
    "class Video:\n",
    "    \n",
    "    def __init__(self):\n",
    "        self.title = None\n",
    "        self.length = timedelta\n",
    "        self.link = generic_image\n",
    "        \n",
    "    def play(self):\n",
    "        print(f\"Now playing {self.title}\")\n",
    "        display(Image(self.link))\n",
    "        \n",
    "    def pause(self):\n",
    "        print(\"Video Paused\")\n",
    "        \n",
    "    def __repr__(self):\n",
    "        return f\"{self.title} is {self.length.seconds} seconds long.\" "
   ]
  },
  {
   "cell_type": "code",
   "execution_count": null,
   "metadata": {},
   "outputs": [],
   "source": [
    "vid = Video()\n",
    "vid.title = 'Cool Video'\n",
    "vid.play()"
   ]
  },
  {
   "cell_type": "markdown",
   "metadata": {},
   "source": [
    "## 2 ABSTRACTION"
   ]
  },
  {
   "cell_type": "markdown",
   "metadata": {},
   "source": [
    "Abstraction is a process of hiding the implementation details from the user, only the functionality will be provided to the user.\n",
    "<br><br>\n"
   ]
  },
  {
   "cell_type": "code",
   "execution_count": 9,
   "metadata": {},
   "outputs": [],
   "source": [
    "class Episode(Video): \n",
    "    def __init__(self, data):\n",
    "        Video.__init__(self)\n",
    "        self.number = data ['number']\n",
    "        self.season = data['season']\n",
    "        self.date_aired = data['airdate']\n",
    "        self.summary = data['summary']\n",
    "        self.rating = data['rating']['average']\n",
    "        self.title = data['name']\n",
    "        self.length = timedelta(minutes = data['runtime'])\n",
    "        if data['image']:\n",
    "            self.link = data['image']['medium']"
   ]
  },
  {
   "cell_type": "code",
   "execution_count": 29,
   "metadata": {},
   "outputs": [
    {
     "ename": "TypeError",
     "evalue": "__init__() missing 1 required positional argument: 'data'",
     "output_type": "error",
     "traceback": [
      "\u001b[0;31m---------------------------------------------------------------------------\u001b[0m",
      "\u001b[0;31mTypeError\u001b[0m                                 Traceback (most recent call last)",
      "\u001b[0;32m/var/folders/7z/fsly57qx33z50pnnzrqy8rbr0000gn/T/ipykernel_3340/785353451.py\u001b[0m in \u001b[0;36m<module>\u001b[0;34m\u001b[0m\n\u001b[0;32m----> 1\u001b[0;31m \u001b[0mepisode_1\u001b[0m \u001b[0;34m=\u001b[0m \u001b[0mEpisode\u001b[0m\u001b[0;34m(\u001b[0m\u001b[0;34m)\u001b[0m\u001b[0;34m\u001b[0m\u001b[0;34m\u001b[0m\u001b[0m\n\u001b[0m\u001b[1;32m      2\u001b[0m \u001b[0mepisode_1\u001b[0m\u001b[0;34m.\u001b[0m\u001b[0m__dict__\u001b[0m\u001b[0;34m\u001b[0m\u001b[0;34m\u001b[0m\u001b[0m\n",
      "\u001b[0;31mTypeError\u001b[0m: __init__() missing 1 required positional argument: 'data'"
     ]
    }
   ],
   "source": [
    "episode_1 = Episode()\n",
    "episode_1.__dict__"
   ]
  },
  {
   "cell_type": "markdown",
   "metadata": {},
   "source": [
    "## 3 INHERITENCE"
   ]
  },
  {
   "cell_type": "markdown",
   "metadata": {},
   "source": [
    "Inheritance can be defined as the process where one class acquires the properties (methods and fields) of another.\n",
    "<br>\n",
    "<i>(see above)</i>"
   ]
  },
  {
   "cell_type": "code",
   "execution_count": 7,
   "metadata": {},
   "outputs": [],
   "source": [
    "class Series:\n",
    "    def __init__(self): \n",
    "        self.id = None\n",
    "        self.network = None\n",
    "        self.seasons = None\n",
    "        self.summary = None\n",
    "        self.genres = []\n",
    "        self.episodes = []\n",
    "        \n",
    "    def get_info(self, choice = ''):\n",
    "        data = None   \n",
    "        while not data:\n",
    "            if not choice:\n",
    "                choice = input(\"What is the name of the Series?\" )\n",
    "            r = requests.get(f\"https://api.tvmaze.com/singlesearch/shows?q={choice}\")\n",
    "            if r.status_code == 200:\n",
    "                data = r.json()\n",
    "            else:\n",
    "                print(f\"Series error: status code {r.status_code}\")\n",
    "            choice = ''\n",
    "                \n",
    "        self.id = data['id']\n",
    "        self.title = data['name']\n",
    "        self.genres = [genre for genre in data['genres']]\n",
    "        self.summary = data['summary']\n",
    "        if data['network']:\n",
    "            self.network = data['network']['name']\n",
    "        else:\n",
    "            self.network = data['webChannel']['name']\n",
    "            \n",
    "            \n",
    "        # API call for episodes\n",
    "        r = requests.get(f\"https://api.tvmaze.com/shows/{self.id}/episodes\")\n",
    "        if r.status_code == 200:\n",
    "                episodes = r.json()\n",
    "        else:\n",
    "            print(f\"Series error: status code {r.status_code}\")\n",
    "            return\n",
    "        self.seasons = episodes[-1]['season']\n",
    "        self.episodes = [ Episode(ep) for ep in episodes]\n",
    "        \n",
    "    def play(self):\n",
    "        for i in range(len(self.episodes)):\n",
    "            if i > 0 and i % 3 == 0:\n",
    "                watching = input(\"Are you still watching? y/n\")\n",
    "                if watching.lower() not in ('yes','y'):\n",
    "                    break\n",
    "                \n",
    "            self.episodes[i].play()\n",
    "            sleep(self.episodes[i].length.seconds/1000)\n",
    "            \n",
    "    def __len__(self):\n",
    "        return len(self.episodes)\n",
    "    def __repr__(self):\n",
    "        return f\"Title: {self.title}\""
   ]
  },
  {
   "cell_type": "code",
   "execution_count": 5,
   "metadata": {},
   "outputs": [],
   "source": [
    "first_show = Series()"
   ]
  },
  {
   "cell_type": "code",
   "execution_count": null,
   "metadata": {
    "scrolled": true
   },
   "outputs": [],
   "source": [
    "first_show.get_info()"
   ]
  },
  {
   "cell_type": "code",
   "execution_count": null,
   "metadata": {},
   "outputs": [],
   "source": [
    "print(first_show)\n",
    "print(len(first_show))\n",
    "first_show.play()"
   ]
  },
  {
   "cell_type": "markdown",
   "metadata": {},
   "source": [
    "## 4 POLYMORPHISM"
   ]
  },
  {
   "cell_type": "markdown",
   "metadata": {},
   "source": [
    "In object-oriented programming, polymorphism (from the Greek meaning “having multiple forms”) is the characteristic of being able to assign a different meaning or usage to something in different contexts — specifically, to allow an entity such as a function, or an object to have more than one form.\n",
    "<br><br>\n"
   ]
  },
  {
   "cell_type": "code",
   "execution_count": 8,
   "metadata": {},
   "outputs": [],
   "source": [
    "import random\n",
    "\n",
    "class Theater:\n",
    "    def __init__(self):\n",
    "        self.users = []\n",
    "        self.watchlist = []\n",
    "        self.current_user = None\n",
    "        \n",
    "    def add_user(self, name = ''):\n",
    "        if not name:\n",
    "            name = input(\"What is the name of your new user? \")\n",
    "            self.users.append(name)\n",
    "            \n",
    "    def choose_user(self):\n",
    "        while True:\n",
    "            print(\"Users\")\n",
    "            for user in self.users:\n",
    "                print(user)\n",
    "            current = input(\"Choose a user \")\n",
    "            if current in self.users:\n",
    "                self.current_user = current\n",
    "                print(f\"{self.current_user} is now watching\")\n",
    "                break\n",
    "            else:\n",
    "                print(f\"{current} is not a user\")\n",
    "                \n",
    "    def add_to_watchlist(self):\n",
    "        show = Series()\n",
    "        show.get_info()\n",
    "        self.watchlist.append(show)\n",
    "        print(f\"{show.title} has been added to your watchlist.\")\n",
    "        \n",
    "    def random_select(self):\n",
    "        show = Series()\n",
    "        show_list = ['the office', 'the golden girls', 'friends', \n",
    "                     'how i met your mother', 'will \\& grace',\n",
    "                     'seinfeld', 'modern family', 'rupauls drag race', \n",
    "                     'what we do in the shadows' , 'the big bang theory']\n",
    "        choice = random.choice(show_list)\n",
    "        show.get_info(choice)\n",
    "        self.watchlist.append(show)\n",
    "        print(f\"{show.title} has been added to your watchlist.\")\n",
    "        \n",
    "        \n",
    "    def choose_from_watchlist(self):\n",
    "        for series in self.watchlist:\n",
    "            print(f\"\\n\\n{series} | Episodes: {len(series)}\")\n",
    "            print(f'\\nSummary: \\n{series.summary}')\n",
    "            \n",
    "        watch = input(\"What do you want to watch? \")\n",
    "        \n",
    "        for series in self.watchlist:\n",
    "            if series.title.lower() == watch.lower():\n",
    "                series.play()\n",
    "                \n",
    "        response = (f\"{watch} is not in your watchlist. Would you like to add it? y\\n \")\n",
    "        if response.lower() in ('y','yes'):\n",
    "            self.add_to_watchlist()\n",
    "            self.watchlist[-1].play()\n",
    "     \n",
    "    \n",
    "    \n",
    "    def run(self):\n",
    "        \"\"\"\n",
    "            Method allowing users to choose a series and play episodes.\n",
    "        \"\"\"\n",
    "        \n",
    "        if self.users:\n",
    "            self.choose_user()\n",
    "        else:\n",
    "            name = input(\"Create a profile (provide name): \")\n",
    "            self.add_user(name)\n",
    "            self.current_user = name \n",
    "        print(self.current_user)\n",
    "        print(\"\"\"\n",
    "            What would you like to do?\n",
    "            \n",
    "            Search - Search for shows\n",
    "            Watch  - Pick something from your watchlist\n",
    "            Random - Don't know what to watch? We can select a show for you\n",
    "            Add    - Add a new user\n",
    "            Quit   - Close the app \n",
    "        \"\"\")\n",
    "        \n",
    "        while True: \n",
    "            response = input(\"What would you like to do? (search, random, watch, add, quit) \")\n",
    "            \n",
    "            if response.lower() == 'search':\n",
    "                self.add_to_watchlist()\n",
    "            elif response.lower() == 'random':\n",
    "                self.random_select()\n",
    "            elif response.lower() == 'watch':\n",
    "                self.choose_from_watchlist()\n",
    "            elif response.lower() == 'add':\n",
    "                self.add_user()\n",
    "                self.choose_user()\n",
    "            elif response.lower() == 'quit':\n",
    "                print(\"Thanks for watching...\")\n",
    "                break\n",
    "            else:\n",
    "                print(\"Invalid input....Try again.\")"
   ]
  },
  {
   "cell_type": "code",
   "execution_count": 10,
   "metadata": {},
   "outputs": [
    {
     "name": "stdout",
     "output_type": "stream",
     "text": [
      "Create a profile (provide name): Alex\n",
      "Alex\n",
      "\n",
      "            What would you like to do?\n",
      "            \n",
      "            Search - Search for shows\n",
      "            Watch  - Pick something from your watchlist\n",
      "            Random - Don't know what to watch? We can select a show for you\n",
      "            Add    - Add a new user\n",
      "            Quit   - Close the app \n",
      "        \n",
      "What would you like to do? (search, random, watch, add, quit) add\n",
      "What is the name of your new user? Alex\n",
      "Users\n",
      "Alex\n",
      "Choose a user Alex\n",
      "Alex is now watching\n",
      "What would you like to do? (search, random, watch, add, quit) random\n",
      "Seinfeld has been added to your watchlist.\n",
      "What would you like to do? (search, random, watch, add, quit) watch\n",
      "\n",
      "\n",
      "Title: Seinfeld | Episodes: 180\n",
      "\n",
      "Summary: \n",
      "<p><b>Seinfeld</b> is the story of a fictionalized version of stand-up comedian Jerry Seinfeld, his life in New York City and his quirky group of friends who join him in wrestling with life's most perplexing, yet often trivial questions. Often described as \"a show about nothing,\" Seinfeld mines the humor in life's mundane situations like waiting in line, searching for a lost item, or the trials and tribulations of dating.</p>\n",
      "What do you want to watch? seinfeld\n",
      "Now playing Good News, Bad News\n"
     ]
    },
    {
     "data": {
      "image/jpeg": "[encoded data removed]",
      "text/plain": [
       "<IPython.core.display.Image object>"
      ]
     },
     "metadata": {},
     "output_type": "display_data"
    },
    {
     "name": "stdout",
     "output_type": "stream",
     "text": [
      "Now playing The Stakeout\n"
     ]
    },
    {
     "data": {
      "image/jpeg": "[encoded data removed]",
      "text/plain": [
       "<IPython.core.display.Image object>"
      ]
     },
     "metadata": {},
     "output_type": "display_data"
    },
    {
     "name": "stdout",
     "output_type": "stream",
     "text": [
      "Now playing The Robbery\n"
     ]
    },
    {
     "data": {
      "image/jpeg": "[encoded data removed]",
      "text/plain": [
       "<IPython.core.display.Image object>"
      ]
     },
     "metadata": {},
     "output_type": "display_data"
    },
    {
     "name": "stdout",
     "output_type": "stream",
     "text": [
      "Are you still watching? y/nn\n",
      "What would you like to do? (search, random, watch, add, quit) random\n",
      "Modern Family has been added to your watchlist.\n",
      "What would you like to do? (search, random, watch, add, quit) random\n",
      "Target: Billboard ― Kill Bill has been added to your watchlist.\n",
      "What would you like to do? (search, random, watch, add, quit) watch\n",
      "\n",
      "\n",
      "Title: Seinfeld | Episodes: 180\n",
      "\n",
      "Summary: \n",
      "<p><b>Seinfeld</b> is the story of a fictionalized version of stand-up comedian Jerry Seinfeld, his life in New York City and his quirky group of friends who join him in wrestling with life's most perplexing, yet often trivial questions. Often described as \"a show about nothing,\" Seinfeld mines the humor in life's mundane situations like waiting in line, searching for a lost item, or the trials and tribulations of dating.</p>\n",
      "\n",
      "\n",
      "Title: Modern Family | Episodes: 250\n",
      "\n",
      "Summary: \n",
      "<p><b>Modern Family</b> revolves around three different types of families (nuclear, step- and same-sex) living in the Los Angeles area, who are interrelated through Jay Pritchett and his children, Claire Dunphy (née Pritchett) and Mitchell Pritchett. Patriarch Jay is remarried to a much younger woman, Gloria Delgado Pritchett (née Ramirez), a passionate Colombian with whom he has an infant son, Fulgencio (Joe) Pritchett, and a son from Gloria's previous marriage, Manny Delgado.</p><p>Jay's daughter Claire was a homemaker, but has returned to the business world. She is now the chief executive of her father's previous business, Pritchett's Closets and Blinds. She is married to Phil Dunphy, a realtor and self-professed \"cool dad\". They have three children: Haley Dunphy, a stereotypical ditzy teenage girl; Alex Dunphy, a nerdy, smart middle child; and Luke Dunphy, the off-beat only son.</p><p>Jay's lawyer son Mitchell and his husband Cameron Tucker have one daughter, Lily Tucker-Pritchett. As the name suggests, this family represents a modern-day family, and episodes are comically based on situations which many families encounter in real life.</p>\n",
      "\n",
      "\n",
      "Title: Target: Billboard ― Kill Bill | Episodes: 10\n",
      "\n",
      "Summary: \n",
      "<p>After K-pop superstar group BTS's conquering of the Billboard Chart in 2018, more Korean singers are setting their sights on it ― and Korean rappers are no exception.</p><p>MBC's coming hip-hop survival show \"Target: Billboard ― Kill Bill\" boasts a powerful lineup of those rappers, including Dok2, SanE, Jessie, BewhY and Yang Dong-geun.</p><p>A spokesperson for Kings Entertainment, the show's production company, revealed that the program's goal is to come up with songs that will enter the chart.</p><p>\"My nickname is 'Billboard Billy,'\" DJ Khaled wrote on his social media. \"The 'Kill Bill' winner and I will take over Billboard, and I'll be giving my full support for this.\"</p>\n",
      "What do you want to watch? target: billboard - kill bill\n",
      "What would you like to do? (search, random, watch, add, quit) watch\n",
      "\n",
      "\n",
      "Title: Seinfeld | Episodes: 180\n",
      "\n",
      "Summary: \n",
      "<p><b>Seinfeld</b> is the story of a fictionalized version of stand-up comedian Jerry Seinfeld, his life in New York City and his quirky group of friends who join him in wrestling with life's most perplexing, yet often trivial questions. Often described as \"a show about nothing,\" Seinfeld mines the humor in life's mundane situations like waiting in line, searching for a lost item, or the trials and tribulations of dating.</p>\n",
      "\n",
      "\n",
      "Title: Modern Family | Episodes: 250\n",
      "\n",
      "Summary: \n",
      "<p><b>Modern Family</b> revolves around three different types of families (nuclear, step- and same-sex) living in the Los Angeles area, who are interrelated through Jay Pritchett and his children, Claire Dunphy (née Pritchett) and Mitchell Pritchett. Patriarch Jay is remarried to a much younger woman, Gloria Delgado Pritchett (née Ramirez), a passionate Colombian with whom he has an infant son, Fulgencio (Joe) Pritchett, and a son from Gloria's previous marriage, Manny Delgado.</p><p>Jay's daughter Claire was a homemaker, but has returned to the business world. She is now the chief executive of her father's previous business, Pritchett's Closets and Blinds. She is married to Phil Dunphy, a realtor and self-professed \"cool dad\". They have three children: Haley Dunphy, a stereotypical ditzy teenage girl; Alex Dunphy, a nerdy, smart middle child; and Luke Dunphy, the off-beat only son.</p><p>Jay's lawyer son Mitchell and his husband Cameron Tucker have one daughter, Lily Tucker-Pritchett. As the name suggests, this family represents a modern-day family, and episodes are comically based on situations which many families encounter in real life.</p>\n",
      "\n",
      "\n",
      "Title: Target: Billboard ― Kill Bill | Episodes: 10\n",
      "\n",
      "Summary: \n",
      "<p>After K-pop superstar group BTS's conquering of the Billboard Chart in 2018, more Korean singers are setting their sights on it ― and Korean rappers are no exception.</p><p>MBC's coming hip-hop survival show \"Target: Billboard ― Kill Bill\" boasts a powerful lineup of those rappers, including Dok2, SanE, Jessie, BewhY and Yang Dong-geun.</p><p>A spokesperson for Kings Entertainment, the show's production company, revealed that the program's goal is to come up with songs that will enter the chart.</p><p>\"My nickname is 'Billboard Billy,'\" DJ Khaled wrote on his social media. \"The 'Kill Bill' winner and I will take over Billboard, and I'll be giving my full support for this.\"</p>\n",
      "What do you want to watch? modern family\n",
      "Now playing Pilot\n"
     ]
    },
    {
     "data": {
      "image/jpeg": "[encoded data removed]",
      "text/plain": [
       "<IPython.core.display.Image object>"
      ]
     },
     "metadata": {},
     "output_type": "display_data"
    },
    {
     "name": "stdout",
     "output_type": "stream",
     "text": [
      "Now playing The Bicycle Thief\n"
     ]
    },
    {
     "data": {
      "image/jpeg": "[encoded data removed]",
      "text/plain": [
       "<IPython.core.display.Image object>"
      ]
     },
     "metadata": {},
     "output_type": "display_data"
    },
    {
     "name": "stdout",
     "output_type": "stream",
     "text": [
      "Now playing Come Fly with Me\n"
     ]
    },
    {
     "data": {
      "image/jpeg": "[encoded data removed]",
      "text/plain": [
       "<IPython.core.display.Image object>"
      ]
     },
     "metadata": {},
     "output_type": "display_data"
    },
    {
     "name": "stdout",
     "output_type": "stream",
     "text": [
      "Are you still watching? y/nn\n",
      "What would you like to do? (search, random, watch, add, quit) quit\n",
      "Thanks for watching...\n"
     ]
    }
   ],
   "source": [
    "codeflix = Theater()\n",
    "codeflix.run()"
   ]
  },
  {
   "cell_type": "code",
   "execution_count": null,
   "metadata": {},
   "outputs": [],
   "source": []
  },
  {
   "cell_type": "code",
   "execution_count": null,
   "metadata": {},
   "outputs": [],
   "source": []
  },
  {
   "cell_type": "markdown",
   "metadata": {},
   "source": [
    "##  Exercise 1:\n",
    "Discuss what other classes, methods, or fields (attributes) we could make to improve our streaming service using these principles. <br> <br>\n",
    "Start making a few of them and see where it leads..."
   ]
  },
  {
   "cell_type": "code",
   "execution_count": null,
   "metadata": {},
   "outputs": [],
   "source": [
    "# Dominic P & myself added a random_select method for our Theater class. \n",
    "# This method essentially randomly selects from a list of shows we've set up to add to their watchlist if a user so chooses."
   ]
  }
 ],
 "metadata": {
  "kernelspec": {
   "display_name": "Python 3 (ipykernel)",
   "language": "python",
   "name": "python3"
  },
  "language_info": {
   "codemirror_mode": {
    "name": "ipython",
    "version": 3
   },
   "file_extension": ".py",
   "mimetype": "text/x-python",
   "name": "python",
   "nbconvert_exporter": "python",
   "pygments_lexer": "ipython3",
   "version": "3.9.7"
  }
 },
 "nbformat": 4,
 "nbformat_minor": 4
}
